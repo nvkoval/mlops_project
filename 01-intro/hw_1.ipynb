{
  "cells": [
    {
      "cell_type": "code",
      "execution_count": 26,
      "id": "dac8a300",
      "metadata": {
        "id": "dac8a300"
      },
      "outputs": [],
      "source": [
        "import pickle\n",
        "\n",
        "import pandas as pd\n",
        "import seaborn as sns\n",
        "import matplotlib.pyplot as plt\n",
        "\n",
        "from sklearn.feature_extraction import DictVectorizer\n",
        "from sklearn.linear_model import LinearRegression\n",
        "from sklearn.metrics import root_mean_squared_error"
      ]
    },
    {
      "cell_type": "markdown",
      "id": "5adef06d",
      "metadata": {
        "id": "5adef06d"
      },
      "source": [
        "## Load the data"
      ]
    },
    {
      "cell_type": "code",
      "execution_count": null,
      "id": "9e961849",
      "metadata": {
        "id": "9e961849"
      },
      "outputs": [],
      "source": [
        "df = pd.read_parquet('../data/yellow_tripdata_2023-01.parquet')"
      ]
    },
    {
      "cell_type": "code",
      "execution_count": 5,
      "id": "6fac0938",
      "metadata": {
        "colab": {
          "base_uri": "https://localhost:8080/",
          "height": 226
        },
        "id": "6fac0938",
        "outputId": "753881d7-a1e7-4386-9ab7-a2efd0acebe5"
      },
      "outputs": [
        {
          "data": {
            "application/vnd.google.colaboratory.intrinsic+json": {
              "type": "dataframe",
              "variable_name": "df"
            },
            "text/html": [
              "\n",
              "  <div id=\"df-12548205-dc97-4c9b-9735-370d42dc04dc\" class=\"colab-df-container\">\n",
              "    <div>\n",
              "<style scoped>\n",
              "    .dataframe tbody tr th:only-of-type {\n",
              "        vertical-align: middle;\n",
              "    }\n",
              "\n",
              "    .dataframe tbody tr th {\n",
              "        vertical-align: top;\n",
              "    }\n",
              "\n",
              "    .dataframe thead th {\n",
              "        text-align: right;\n",
              "    }\n",
              "</style>\n",
              "<table border=\"1\" class=\"dataframe\">\n",
              "  <thead>\n",
              "    <tr style=\"text-align: right;\">\n",
              "      <th></th>\n",
              "      <th>VendorID</th>\n",
              "      <th>tpep_pickup_datetime</th>\n",
              "      <th>tpep_dropoff_datetime</th>\n",
              "      <th>passenger_count</th>\n",
              "      <th>trip_distance</th>\n",
              "      <th>RatecodeID</th>\n",
              "      <th>store_and_fwd_flag</th>\n",
              "      <th>PULocationID</th>\n",
              "      <th>DOLocationID</th>\n",
              "      <th>payment_type</th>\n",
              "      <th>fare_amount</th>\n",
              "      <th>extra</th>\n",
              "      <th>mta_tax</th>\n",
              "      <th>tip_amount</th>\n",
              "      <th>tolls_amount</th>\n",
              "      <th>improvement_surcharge</th>\n",
              "      <th>total_amount</th>\n",
              "      <th>congestion_surcharge</th>\n",
              "      <th>airport_fee</th>\n",
              "    </tr>\n",
              "  </thead>\n",
              "  <tbody>\n",
              "    <tr>\n",
              "      <th>0</th>\n",
              "      <td>2</td>\n",
              "      <td>2023-01-01 00:32:10</td>\n",
              "      <td>2023-01-01 00:40:36</td>\n",
              "      <td>1.0</td>\n",
              "      <td>0.97</td>\n",
              "      <td>1.0</td>\n",
              "      <td>N</td>\n",
              "      <td>161</td>\n",
              "      <td>141</td>\n",
              "      <td>2</td>\n",
              "      <td>9.3</td>\n",
              "      <td>1.00</td>\n",
              "      <td>0.5</td>\n",
              "      <td>0.00</td>\n",
              "      <td>0.0</td>\n",
              "      <td>1.0</td>\n",
              "      <td>14.30</td>\n",
              "      <td>2.5</td>\n",
              "      <td>0.00</td>\n",
              "    </tr>\n",
              "    <tr>\n",
              "      <th>1</th>\n",
              "      <td>2</td>\n",
              "      <td>2023-01-01 00:55:08</td>\n",
              "      <td>2023-01-01 01:01:27</td>\n",
              "      <td>1.0</td>\n",
              "      <td>1.10</td>\n",
              "      <td>1.0</td>\n",
              "      <td>N</td>\n",
              "      <td>43</td>\n",
              "      <td>237</td>\n",
              "      <td>1</td>\n",
              "      <td>7.9</td>\n",
              "      <td>1.00</td>\n",
              "      <td>0.5</td>\n",
              "      <td>4.00</td>\n",
              "      <td>0.0</td>\n",
              "      <td>1.0</td>\n",
              "      <td>16.90</td>\n",
              "      <td>2.5</td>\n",
              "      <td>0.00</td>\n",
              "    </tr>\n",
              "    <tr>\n",
              "      <th>2</th>\n",
              "      <td>2</td>\n",
              "      <td>2023-01-01 00:25:04</td>\n",
              "      <td>2023-01-01 00:37:49</td>\n",
              "      <td>1.0</td>\n",
              "      <td>2.51</td>\n",
              "      <td>1.0</td>\n",
              "      <td>N</td>\n",
              "      <td>48</td>\n",
              "      <td>238</td>\n",
              "      <td>1</td>\n",
              "      <td>14.9</td>\n",
              "      <td>1.00</td>\n",
              "      <td>0.5</td>\n",
              "      <td>15.00</td>\n",
              "      <td>0.0</td>\n",
              "      <td>1.0</td>\n",
              "      <td>34.90</td>\n",
              "      <td>2.5</td>\n",
              "      <td>0.00</td>\n",
              "    </tr>\n",
              "    <tr>\n",
              "      <th>3</th>\n",
              "      <td>1</td>\n",
              "      <td>2023-01-01 00:03:48</td>\n",
              "      <td>2023-01-01 00:13:25</td>\n",
              "      <td>0.0</td>\n",
              "      <td>1.90</td>\n",
              "      <td>1.0</td>\n",
              "      <td>N</td>\n",
              "      <td>138</td>\n",
              "      <td>7</td>\n",
              "      <td>1</td>\n",
              "      <td>12.1</td>\n",
              "      <td>7.25</td>\n",
              "      <td>0.5</td>\n",
              "      <td>0.00</td>\n",
              "      <td>0.0</td>\n",
              "      <td>1.0</td>\n",
              "      <td>20.85</td>\n",
              "      <td>0.0</td>\n",
              "      <td>1.25</td>\n",
              "    </tr>\n",
              "    <tr>\n",
              "      <th>4</th>\n",
              "      <td>2</td>\n",
              "      <td>2023-01-01 00:10:29</td>\n",
              "      <td>2023-01-01 00:21:19</td>\n",
              "      <td>1.0</td>\n",
              "      <td>1.43</td>\n",
              "      <td>1.0</td>\n",
              "      <td>N</td>\n",
              "      <td>107</td>\n",
              "      <td>79</td>\n",
              "      <td>1</td>\n",
              "      <td>11.4</td>\n",
              "      <td>1.00</td>\n",
              "      <td>0.5</td>\n",
              "      <td>3.28</td>\n",
              "      <td>0.0</td>\n",
              "      <td>1.0</td>\n",
              "      <td>19.68</td>\n",
              "      <td>2.5</td>\n",
              "      <td>0.00</td>\n",
              "    </tr>\n",
              "  </tbody>\n",
              "</table>\n",
              "</div>\n",
              "    <div class=\"colab-df-buttons\">\n",
              "\n",
              "  <div class=\"colab-df-container\">\n",
              "    <button class=\"colab-df-convert\" onclick=\"convertToInteractive('df-12548205-dc97-4c9b-9735-370d42dc04dc')\"\n",
              "            title=\"Convert this dataframe to an interactive table.\"\n",
              "            style=\"display:none;\">\n",
              "\n",
              "  <svg xmlns=\"http://www.w3.org/2000/svg\" height=\"24px\" viewBox=\"0 -960 960 960\">\n",
              "    <path d=\"M120-120v-720h720v720H120Zm60-500h600v-160H180v160Zm220 220h160v-160H400v160Zm0 220h160v-160H400v160ZM180-400h160v-160H180v160Zm440 0h160v-160H620v160ZM180-180h160v-160H180v160Zm440 0h160v-160H620v160Z\"/>\n",
              "  </svg>\n",
              "    </button>\n",
              "\n",
              "  <style>\n",
              "    .colab-df-container {\n",
              "      display:flex;\n",
              "      gap: 12px;\n",
              "    }\n",
              "\n",
              "    .colab-df-convert {\n",
              "      background-color: #E8F0FE;\n",
              "      border: none;\n",
              "      border-radius: 50%;\n",
              "      cursor: pointer;\n",
              "      display: none;\n",
              "      fill: #1967D2;\n",
              "      height: 32px;\n",
              "      padding: 0 0 0 0;\n",
              "      width: 32px;\n",
              "    }\n",
              "\n",
              "    .colab-df-convert:hover {\n",
              "      background-color: #E2EBFA;\n",
              "      box-shadow: 0px 1px 2px rgba(60, 64, 67, 0.3), 0px 1px 3px 1px rgba(60, 64, 67, 0.15);\n",
              "      fill: #174EA6;\n",
              "    }\n",
              "\n",
              "    .colab-df-buttons div {\n",
              "      margin-bottom: 4px;\n",
              "    }\n",
              "\n",
              "    [theme=dark] .colab-df-convert {\n",
              "      background-color: #3B4455;\n",
              "      fill: #D2E3FC;\n",
              "    }\n",
              "\n",
              "    [theme=dark] .colab-df-convert:hover {\n",
              "      background-color: #434B5C;\n",
              "      box-shadow: 0px 1px 3px 1px rgba(0, 0, 0, 0.15);\n",
              "      filter: drop-shadow(0px 1px 2px rgba(0, 0, 0, 0.3));\n",
              "      fill: #FFFFFF;\n",
              "    }\n",
              "  </style>\n",
              "\n",
              "    <script>\n",
              "      const buttonEl =\n",
              "        document.querySelector('#df-12548205-dc97-4c9b-9735-370d42dc04dc button.colab-df-convert');\n",
              "      buttonEl.style.display =\n",
              "        google.colab.kernel.accessAllowed ? 'block' : 'none';\n",
              "\n",
              "      async function convertToInteractive(key) {\n",
              "        const element = document.querySelector('#df-12548205-dc97-4c9b-9735-370d42dc04dc');\n",
              "        const dataTable =\n",
              "          await google.colab.kernel.invokeFunction('convertToInteractive',\n",
              "                                                    [key], {});\n",
              "        if (!dataTable) return;\n",
              "\n",
              "        const docLinkHtml = 'Like what you see? Visit the ' +\n",
              "          '<a target=\"_blank\" href=https://colab.research.google.com/notebooks/data_table.ipynb>data table notebook</a>'\n",
              "          + ' to learn more about interactive tables.';\n",
              "        element.innerHTML = '';\n",
              "        dataTable['output_type'] = 'display_data';\n",
              "        await google.colab.output.renderOutput(dataTable, element);\n",
              "        const docLink = document.createElement('div');\n",
              "        docLink.innerHTML = docLinkHtml;\n",
              "        element.appendChild(docLink);\n",
              "      }\n",
              "    </script>\n",
              "  </div>\n",
              "\n",
              "\n",
              "    <div id=\"df-c642a02f-7714-4523-be08-448c6e7da5b4\">\n",
              "      <button class=\"colab-df-quickchart\" onclick=\"quickchart('df-c642a02f-7714-4523-be08-448c6e7da5b4')\"\n",
              "                title=\"Suggest charts\"\n",
              "                style=\"display:none;\">\n",
              "\n",
              "<svg xmlns=\"http://www.w3.org/2000/svg\" height=\"24px\"viewBox=\"0 0 24 24\"\n",
              "     width=\"24px\">\n",
              "    <g>\n",
              "        <path d=\"M19 3H5c-1.1 0-2 .9-2 2v14c0 1.1.9 2 2 2h14c1.1 0 2-.9 2-2V5c0-1.1-.9-2-2-2zM9 17H7v-7h2v7zm4 0h-2V7h2v10zm4 0h-2v-4h2v4z\"/>\n",
              "    </g>\n",
              "</svg>\n",
              "      </button>\n",
              "\n",
              "<style>\n",
              "  .colab-df-quickchart {\n",
              "      --bg-color: #E8F0FE;\n",
              "      --fill-color: #1967D2;\n",
              "      --hover-bg-color: #E2EBFA;\n",
              "      --hover-fill-color: #174EA6;\n",
              "      --disabled-fill-color: #AAA;\n",
              "      --disabled-bg-color: #DDD;\n",
              "  }\n",
              "\n",
              "  [theme=dark] .colab-df-quickchart {\n",
              "      --bg-color: #3B4455;\n",
              "      --fill-color: #D2E3FC;\n",
              "      --hover-bg-color: #434B5C;\n",
              "      --hover-fill-color: #FFFFFF;\n",
              "      --disabled-bg-color: #3B4455;\n",
              "      --disabled-fill-color: #666;\n",
              "  }\n",
              "\n",
              "  .colab-df-quickchart {\n",
              "    background-color: var(--bg-color);\n",
              "    border: none;\n",
              "    border-radius: 50%;\n",
              "    cursor: pointer;\n",
              "    display: none;\n",
              "    fill: var(--fill-color);\n",
              "    height: 32px;\n",
              "    padding: 0;\n",
              "    width: 32px;\n",
              "  }\n",
              "\n",
              "  .colab-df-quickchart:hover {\n",
              "    background-color: var(--hover-bg-color);\n",
              "    box-shadow: 0 1px 2px rgba(60, 64, 67, 0.3), 0 1px 3px 1px rgba(60, 64, 67, 0.15);\n",
              "    fill: var(--button-hover-fill-color);\n",
              "  }\n",
              "\n",
              "  .colab-df-quickchart-complete:disabled,\n",
              "  .colab-df-quickchart-complete:disabled:hover {\n",
              "    background-color: var(--disabled-bg-color);\n",
              "    fill: var(--disabled-fill-color);\n",
              "    box-shadow: none;\n",
              "  }\n",
              "\n",
              "  .colab-df-spinner {\n",
              "    border: 2px solid var(--fill-color);\n",
              "    border-color: transparent;\n",
              "    border-bottom-color: var(--fill-color);\n",
              "    animation:\n",
              "      spin 1s steps(1) infinite;\n",
              "  }\n",
              "\n",
              "  @keyframes spin {\n",
              "    0% {\n",
              "      border-color: transparent;\n",
              "      border-bottom-color: var(--fill-color);\n",
              "      border-left-color: var(--fill-color);\n",
              "    }\n",
              "    20% {\n",
              "      border-color: transparent;\n",
              "      border-left-color: var(--fill-color);\n",
              "      border-top-color: var(--fill-color);\n",
              "    }\n",
              "    30% {\n",
              "      border-color: transparent;\n",
              "      border-left-color: var(--fill-color);\n",
              "      border-top-color: var(--fill-color);\n",
              "      border-right-color: var(--fill-color);\n",
              "    }\n",
              "    40% {\n",
              "      border-color: transparent;\n",
              "      border-right-color: var(--fill-color);\n",
              "      border-top-color: var(--fill-color);\n",
              "    }\n",
              "    60% {\n",
              "      border-color: transparent;\n",
              "      border-right-color: var(--fill-color);\n",
              "    }\n",
              "    80% {\n",
              "      border-color: transparent;\n",
              "      border-right-color: var(--fill-color);\n",
              "      border-bottom-color: var(--fill-color);\n",
              "    }\n",
              "    90% {\n",
              "      border-color: transparent;\n",
              "      border-bottom-color: var(--fill-color);\n",
              "    }\n",
              "  }\n",
              "</style>\n",
              "\n",
              "      <script>\n",
              "        async function quickchart(key) {\n",
              "          const quickchartButtonEl =\n",
              "            document.querySelector('#' + key + ' button');\n",
              "          quickchartButtonEl.disabled = true;  // To prevent multiple clicks.\n",
              "          quickchartButtonEl.classList.add('colab-df-spinner');\n",
              "          try {\n",
              "            const charts = await google.colab.kernel.invokeFunction(\n",
              "                'suggestCharts', [key], {});\n",
              "          } catch (error) {\n",
              "            console.error('Error during call to suggestCharts:', error);\n",
              "          }\n",
              "          quickchartButtonEl.classList.remove('colab-df-spinner');\n",
              "          quickchartButtonEl.classList.add('colab-df-quickchart-complete');\n",
              "        }\n",
              "        (() => {\n",
              "          let quickchartButtonEl =\n",
              "            document.querySelector('#df-c642a02f-7714-4523-be08-448c6e7da5b4 button');\n",
              "          quickchartButtonEl.style.display =\n",
              "            google.colab.kernel.accessAllowed ? 'block' : 'none';\n",
              "        })();\n",
              "      </script>\n",
              "    </div>\n",
              "    </div>\n",
              "  </div>\n"
            ],
            "text/plain": [
              "   VendorID tpep_pickup_datetime tpep_dropoff_datetime  passenger_count  \\\n",
              "0         2  2023-01-01 00:32:10   2023-01-01 00:40:36              1.0   \n",
              "1         2  2023-01-01 00:55:08   2023-01-01 01:01:27              1.0   \n",
              "2         2  2023-01-01 00:25:04   2023-01-01 00:37:49              1.0   \n",
              "3         1  2023-01-01 00:03:48   2023-01-01 00:13:25              0.0   \n",
              "4         2  2023-01-01 00:10:29   2023-01-01 00:21:19              1.0   \n",
              "\n",
              "   trip_distance  RatecodeID store_and_fwd_flag  PULocationID  DOLocationID  \\\n",
              "0           0.97         1.0                  N           161           141   \n",
              "1           1.10         1.0                  N            43           237   \n",
              "2           2.51         1.0                  N            48           238   \n",
              "3           1.90         1.0                  N           138             7   \n",
              "4           1.43         1.0                  N           107            79   \n",
              "\n",
              "   payment_type  fare_amount  extra  mta_tax  tip_amount  tolls_amount  \\\n",
              "0             2          9.3   1.00      0.5        0.00           0.0   \n",
              "1             1          7.9   1.00      0.5        4.00           0.0   \n",
              "2             1         14.9   1.00      0.5       15.00           0.0   \n",
              "3             1         12.1   7.25      0.5        0.00           0.0   \n",
              "4             1         11.4   1.00      0.5        3.28           0.0   \n",
              "\n",
              "   improvement_surcharge  total_amount  congestion_surcharge  airport_fee  \n",
              "0                    1.0         14.30                   2.5         0.00  \n",
              "1                    1.0         16.90                   2.5         0.00  \n",
              "2                    1.0         34.90                   2.5         0.00  \n",
              "3                    1.0         20.85                   0.0         1.25  \n",
              "4                    1.0         19.68                   2.5         0.00  "
            ]
          },
          "execution_count": 5,
          "metadata": {},
          "output_type": "execute_result"
        }
      ],
      "source": [
        "df.head()"
      ]
    },
    {
      "cell_type": "code",
      "execution_count": 6,
      "id": "cf620145",
      "metadata": {
        "colab": {
          "base_uri": "https://localhost:8080/"
        },
        "id": "cf620145",
        "outputId": "f5de3936-c670-4630-d905-5d8b4a088fa3"
      },
      "outputs": [
        {
          "name": "stdout",
          "output_type": "stream",
          "text": [
            "<class 'pandas.core.frame.DataFrame'>\n",
            "RangeIndex: 3066766 entries, 0 to 3066765\n",
            "Data columns (total 19 columns):\n",
            " #   Column                 Dtype         \n",
            "---  ------                 -----         \n",
            " 0   VendorID               int64         \n",
            " 1   tpep_pickup_datetime   datetime64[us]\n",
            " 2   tpep_dropoff_datetime  datetime64[us]\n",
            " 3   passenger_count        float64       \n",
            " 4   trip_distance          float64       \n",
            " 5   RatecodeID             float64       \n",
            " 6   store_and_fwd_flag     object        \n",
            " 7   PULocationID           int64         \n",
            " 8   DOLocationID           int64         \n",
            " 9   payment_type           int64         \n",
            " 10  fare_amount            float64       \n",
            " 11  extra                  float64       \n",
            " 12  mta_tax                float64       \n",
            " 13  tip_amount             float64       \n",
            " 14  tolls_amount           float64       \n",
            " 15  improvement_surcharge  float64       \n",
            " 16  total_amount           float64       \n",
            " 17  congestion_surcharge   float64       \n",
            " 18  airport_fee            float64       \n",
            "dtypes: datetime64[us](2), float64(12), int64(4), object(1)\n",
            "memory usage: 444.6+ MB\n"
          ]
        }
      ],
      "source": [
        "df.info()"
      ]
    },
    {
      "cell_type": "code",
      "execution_count": 7,
      "id": "6d5ed810",
      "metadata": {
        "colab": {
          "base_uri": "https://localhost:8080/"
        },
        "id": "6d5ed810",
        "outputId": "622e6520-884f-4c50-9953-cbdc1f77a42e"
      },
      "outputs": [
        {
          "name": "stdout",
          "output_type": "stream",
          "text": [
            "There are 19 columns\n"
          ]
        }
      ],
      "source": [
        "print(f\"There are {df.shape[1]} columns\")"
      ]
    },
    {
      "cell_type": "markdown",
      "id": "d3878d92",
      "metadata": {
        "id": "d3878d92"
      },
      "source": [
        "## Computing duration"
      ]
    },
    {
      "cell_type": "code",
      "execution_count": 8,
      "id": "ac3d81bd",
      "metadata": {
        "id": "ac3d81bd"
      },
      "outputs": [],
      "source": [
        "df['duration'] = df.tpep_dropoff_datetime - df.tpep_pickup_datetime\n",
        "df['duration'] = df.duration.apply(lambda td: td.total_seconds() / 60)"
      ]
    },
    {
      "cell_type": "code",
      "execution_count": 9,
      "id": "5fdf0aec",
      "metadata": {
        "colab": {
          "base_uri": "https://localhost:8080/",
          "height": 445
        },
        "id": "5fdf0aec",
        "outputId": "ceda6be1-4dc1-4c62-aa8f-41ad9135021c"
      },
      "outputs": [
        {
          "data": {
            "image/png": "[encoded data removed]",
            "text/plain": [
              "<Figure size 640x480 with 1 Axes>"
            ]
          },
          "metadata": {},
          "output_type": "display_data"
        }
      ],
      "source": [
        "df['duration'].hist()\n",
        "plt.show()"
      ]
    },
    {
      "cell_type": "code",
      "execution_count": 10,
      "id": "6ba6b720",
      "metadata": {
        "colab": {
          "base_uri": "https://localhost:8080/"
        },
        "id": "6ba6b720",
        "outputId": "671fd4e8-0c21-4a72-81ec-eeb70df391fc"
      },
      "outputs": [
        {
          "data": {
            "text/plain": [
              "42.594351241920904"
            ]
          },
          "execution_count": 10,
          "metadata": {},
          "output_type": "execute_result"
        }
      ],
      "source": [
        "df['duration'].std()"
      ]
    },
    {
      "cell_type": "code",
      "execution_count": 11,
      "id": "6c266a39",
      "metadata": {
        "colab": {
          "base_uri": "https://localhost:8080/",
          "height": 335
        },
        "id": "6c266a39",
        "outputId": "5e8c8edd-fa01-49ff-f0f9-e44f799f03e8"
      },
      "outputs": [
        {
          "data": {
            "text/html": [
              "<div>\n",
              "<style scoped>\n",
              "    .dataframe tbody tr th:only-of-type {\n",
              "        vertical-align: middle;\n",
              "    }\n",
              "\n",
              "    .dataframe tbody tr th {\n",
              "        vertical-align: top;\n",
              "    }\n",
              "\n",
              "    .dataframe thead th {\n",
              "        text-align: right;\n",
              "    }\n",
              "</style>\n",
              "<table border=\"1\" class=\"dataframe\">\n",
              "  <thead>\n",
              "    <tr style=\"text-align: right;\">\n",
              "      <th></th>\n",
              "      <th>duration</th>\n",
              "    </tr>\n",
              "  </thead>\n",
              "  <tbody>\n",
              "    <tr>\n",
              "      <th>count</th>\n",
              "      <td>3066766.00</td>\n",
              "    </tr>\n",
              "    <tr>\n",
              "      <th>mean</th>\n",
              "      <td>15.67</td>\n",
              "    </tr>\n",
              "    <tr>\n",
              "      <th>std</th>\n",
              "      <td>42.59</td>\n",
              "    </tr>\n",
              "    <tr>\n",
              "      <th>min</th>\n",
              "      <td>-29.20</td>\n",
              "    </tr>\n",
              "    <tr>\n",
              "      <th>25%</th>\n",
              "      <td>7.12</td>\n",
              "    </tr>\n",
              "    <tr>\n",
              "      <th>50%</th>\n",
              "      <td>11.52</td>\n",
              "    </tr>\n",
              "    <tr>\n",
              "      <th>75%</th>\n",
              "      <td>18.30</td>\n",
              "    </tr>\n",
              "    <tr>\n",
              "      <th>max</th>\n",
              "      <td>10029.18</td>\n",
              "    </tr>\n",
              "  </tbody>\n",
              "</table>\n",
              "</div><br><label><b>dtype:</b> float64</label>"
            ],
            "text/plain": [
              "count    3066766.00\n",
              "mean          15.67\n",
              "std           42.59\n",
              "min          -29.20\n",
              "25%            7.12\n",
              "50%           11.52\n",
              "75%           18.30\n",
              "max        10029.18\n",
              "Name: duration, dtype: float64"
            ]
          },
          "execution_count": 11,
          "metadata": {},
          "output_type": "execute_result"
        }
      ],
      "source": [
        "df['duration'].describe().round(2)"
      ]
    },
    {
      "cell_type": "code",
      "execution_count": 15,
      "id": "s8kmpS4vGLhO",
      "metadata": {
        "colab": {
          "base_uri": "https://localhost:8080/",
          "height": 460
        },
        "id": "s8kmpS4vGLhO",
        "outputId": "ba675f14-b6f5-4688-85fa-02844a497a04"
      },
      "outputs": [
        {
          "data": {
            "text/html": [
              "<div>\n",
              "<style scoped>\n",
              "    .dataframe tbody tr th:only-of-type {\n",
              "        vertical-align: middle;\n",
              "    }\n",
              "\n",
              "    .dataframe tbody tr th {\n",
              "        vertical-align: top;\n",
              "    }\n",
              "\n",
              "    .dataframe thead th {\n",
              "        text-align: right;\n",
              "    }\n",
              "</style>\n",
              "<table border=\"1\" class=\"dataframe\">\n",
              "  <thead>\n",
              "    <tr style=\"text-align: right;\">\n",
              "      <th></th>\n",
              "      <th>duration</th>\n",
              "    </tr>\n",
              "  </thead>\n",
              "  <tbody>\n",
              "    <tr>\n",
              "      <th>count</th>\n",
              "      <td>3066766.00</td>\n",
              "    </tr>\n",
              "    <tr>\n",
              "      <th>mean</th>\n",
              "      <td>15.67</td>\n",
              "    </tr>\n",
              "    <tr>\n",
              "      <th>std</th>\n",
              "      <td>42.59</td>\n",
              "    </tr>\n",
              "    <tr>\n",
              "      <th>min</th>\n",
              "      <td>-29.20</td>\n",
              "    </tr>\n",
              "    <tr>\n",
              "      <th>1%</th>\n",
              "      <td>0.78</td>\n",
              "    </tr>\n",
              "    <tr>\n",
              "      <th>5%</th>\n",
              "      <td>3.30</td>\n",
              "    </tr>\n",
              "    <tr>\n",
              "      <th>10%</th>\n",
              "      <td>4.48</td>\n",
              "    </tr>\n",
              "    <tr>\n",
              "      <th>50%</th>\n",
              "      <td>11.52</td>\n",
              "    </tr>\n",
              "    <tr>\n",
              "      <th>98%</th>\n",
              "      <td>48.73</td>\n",
              "    </tr>\n",
              "    <tr>\n",
              "      <th>99%</th>\n",
              "      <td>57.25</td>\n",
              "    </tr>\n",
              "    <tr>\n",
              "      <th>99.9%</th>\n",
              "      <td>175.82</td>\n",
              "    </tr>\n",
              "    <tr>\n",
              "      <th>max</th>\n",
              "      <td>10029.18</td>\n",
              "    </tr>\n",
              "  </tbody>\n",
              "</table>\n",
              "</div><br><label><b>dtype:</b> float64</label>"
            ],
            "text/plain": [
              "count    3066766.00\n",
              "mean          15.67\n",
              "std           42.59\n",
              "min          -29.20\n",
              "1%             0.78\n",
              "5%             3.30\n",
              "10%            4.48\n",
              "50%           11.52\n",
              "98%           48.73\n",
              "99%           57.25\n",
              "99.9%        175.82\n",
              "max        10029.18\n",
              "Name: duration, dtype: float64"
            ]
          },
          "execution_count": 15,
          "metadata": {},
          "output_type": "execute_result"
        }
      ],
      "source": [
        "df['duration'].describe(percentiles=[0.01, 0.05, 0.1, 0.98, 0.99, 0.999]).round(2)"
      ]
    },
    {
      "cell_type": "markdown",
      "id": "8dda44dd",
      "metadata": {
        "id": "8dda44dd"
      },
      "source": [
        "## Dropping outliers in `duration`"
      ]
    },
    {
      "cell_type": "code",
      "execution_count": 16,
      "id": "dab5c748",
      "metadata": {
        "colab": {
          "base_uri": "https://localhost:8080/"
        },
        "id": "dab5c748",
        "outputId": "d4633666-f3d9-4a67-d3b8-ca33b59bd4ad"
      },
      "outputs": [
        {
          "data": {
            "text/plain": [
              "np.float64(0.9812202822125979)"
            ]
          },
          "execution_count": 16,
          "metadata": {},
          "output_type": "execute_result"
        }
      ],
      "source": [
        "((df.duration >=1) & (df.duration <= 60)).mean()"
      ]
    },
    {
      "cell_type": "code",
      "execution_count": 17,
      "id": "d13652b3",
      "metadata": {
        "id": "d13652b3"
      },
      "outputs": [],
      "source": [
        "df = df[(df.duration >= 1) & (df.duration <= 60)]"
      ]
    },
    {
      "cell_type": "code",
      "execution_count": 18,
      "id": "a733b890",
      "metadata": {
        "colab": {
          "base_uri": "https://localhost:8080/"
        },
        "id": "a733b890",
        "outputId": "d5c2b16e-a40a-4b08-e8d4-d23c64bc7df8"
      },
      "outputs": [
        {
          "data": {
            "text/plain": [
              "(3009173, 20)"
            ]
          },
          "execution_count": 18,
          "metadata": {},
          "output_type": "execute_result"
        }
      ],
      "source": [
        "df.shape"
      ]
    },
    {
      "cell_type": "markdown",
      "id": "c3fa6c9d",
      "metadata": {
        "id": "c3fa6c9d"
      },
      "source": [
        "## One-hot encoding for `pickup` and `dropoff` location IDs"
      ]
    },
    {
      "cell_type": "code",
      "execution_count": 19,
      "id": "ff7732c0",
      "metadata": {
        "id": "ff7732c0"
      },
      "outputs": [],
      "source": [
        "categorical = ['PULocationID', 'DOLocationID']\n",
        "df[categorical] = df[categorical].astype(str)"
      ]
    },
    {
      "cell_type": "code",
      "execution_count": 24,
      "id": "2236c278",
      "metadata": {
        "id": "2236c278"
      },
      "outputs": [],
      "source": [
        "train_dict = df[categorical].to_dict(orient='records')\n",
        "dv = DictVectorizer()\n",
        "\n",
        "X_train = dv.fit_transform(train_dict)"
      ]
    },
    {
      "cell_type": "code",
      "execution_count": 25,
      "id": "ENFOW5JpHpmi",
      "metadata": {
        "colab": {
          "base_uri": "https://localhost:8080/"
        },
        "id": "ENFOW5JpHpmi",
        "outputId": "71e57f29-28a1-41cc-ed4f-13b766989dd4"
      },
      "outputs": [
        {
          "data": {
            "text/plain": [
              "(3009173, 515)"
            ]
          },
          "execution_count": 25,
          "metadata": {},
          "output_type": "execute_result"
        }
      ],
      "source": [
        "X_train.shape"
      ]
    },
    {
      "cell_type": "markdown",
      "id": "WUbQDWuKH1UP",
      "metadata": {
        "id": "WUbQDWuKH1UP"
      },
      "source": [
        "## Training a model"
      ]
    },
    {
      "cell_type": "code",
      "execution_count": 28,
      "id": "iDz1rgvaHatq",
      "metadata": {
        "colab": {
          "base_uri": "https://localhost:8080/"
        },
        "id": "iDz1rgvaHatq",
        "outputId": "7c9985c1-6448-417a-cbc2-5ba161cf6e98"
      },
      "outputs": [
        {
          "data": {
            "text/plain": [
              "7.649261932106969"
            ]
          },
          "execution_count": 28,
          "metadata": {},
          "output_type": "execute_result"
        }
      ],
      "source": [
        "target = 'duration'\n",
        "y_train = df[target].values\n",
        "\n",
        "lr = LinearRegression()\n",
        "\n",
        "lr.fit(X_train, y_train)\n",
        "\n",
        "y_pred = lr.predict(X_train)\n",
        "\n",
        "root_mean_squared_error(y_train, y_pred)"
      ]
    },
    {
      "cell_type": "code",
      "execution_count": 30,
      "id": "lzrJuwGIISYR",
      "metadata": {
        "colab": {
          "base_uri": "https://localhost:8080/",
          "height": 430
        },
        "id": "lzrJuwGIISYR",
        "outputId": "0788ecc0-0b82-4bd7-e382-53053966ad0f"
      },
      "outputs": [
        {
          "data": {
            "image/png": "[encoded data removed]",
            "text/plain": [
              "<Figure size 640x480 with 1 Axes>"
            ]
          },
          "metadata": {},
          "output_type": "display_data"
        }
      ],
      "source": [
        "sns.histplot(y_pred, kde=True, label='prediction')\n",
        "sns.histplot(y_train, kde=True, label='actual')\n",
        "\n",
        "plt.legend()\n",
        "plt.show()"
      ]
    },
    {
      "cell_type": "markdown",
      "id": "yTInxbSoJBOu",
      "metadata": {
        "id": "yTInxbSoJBOu"
      },
      "source": [
        "## Evaluating the model"
      ]
    },
    {
      "cell_type": "code",
      "execution_count": 34,
      "id": "s-Y1JzG4JAnC",
      "metadata": {
        "id": "s-Y1JzG4JAnC"
      },
      "outputs": [],
      "source": [
        "def read_dataframe(filename):\n",
        "    if filename.endswith('.csv'):\n",
        "        df = pd.read_csv(filename)\n",
        "\n",
        "        df.lpep_dropoff_datetime = pd.to_datetime(df.lpep_dropoff_datetime)\n",
        "        df.lpep_pickup_datetime = pd.to_datetime(df.lpep_pickup_datetime)\n",
        "    elif filename.endswith('.parquet'):\n",
        "        df = pd.read_parquet(filename)\n",
        "\n",
        "    df['duration'] = df.tpep_dropoff_datetime - df.tpep_pickup_datetime\n",
        "    df.duration = df.duration.apply(lambda td: td.total_seconds() / 60)\n",
        "\n",
        "    df = df[(df.duration >= 1) & (df.duration <= 60)]\n",
        "\n",
        "    categorical = ['PULocationID', 'DOLocationID']\n",
        "    df[categorical] = df[categorical].astype(str)\n",
        "\n",
        "    return df"
      ]
    },
    {
      "cell_type": "code",
      "execution_count": null,
      "id": "Q-bCDOjdMp7X",
      "metadata": {
        "id": "Q-bCDOjdMp7X"
      },
      "outputs": [],
      "source": [
        "df_val = read_dataframe('yellow_tripdata_2023-02.parquet')"
      ]
    },
    {
      "cell_type": "code",
      "execution_count": 36,
      "id": "gqL72eurMreU",
      "metadata": {
        "id": "gqL72eurMreU"
      },
      "outputs": [],
      "source": [
        "val_dict = df_val[categorical].to_dict(orient='records')\n",
        "X_val = dv.transform(val_dict)"
      ]
    },
    {
      "cell_type": "code",
      "execution_count": 37,
      "id": "yjqzG8pONiXu",
      "metadata": {
        "colab": {
          "base_uri": "https://localhost:8080/"
        },
        "id": "yjqzG8pONiXu",
        "outputId": "e9826f3f-7b48-4bf7-db53-fde99ba84050"
      },
      "outputs": [
        {
          "data": {
            "text/plain": [
              "(2855951, 515)"
            ]
          },
          "execution_count": 37,
          "metadata": {},
          "output_type": "execute_result"
        }
      ],
      "source": [
        "X_val.shape"
      ]
    },
    {
      "cell_type": "code",
      "execution_count": 38,
      "id": "0WDD0ADMNpaP",
      "metadata": {
        "colab": {
          "base_uri": "https://localhost:8080/"
        },
        "id": "0WDD0ADMNpaP",
        "outputId": "c171c80e-82f1-4878-f95f-1bd216d4183b"
      },
      "outputs": [
        {
          "data": {
            "text/plain": [
              "7.811818743246608"
            ]
          },
          "execution_count": 38,
          "metadata": {},
          "output_type": "execute_result"
        }
      ],
      "source": [
        "y_val = df_val[target].values\n",
        "\n",
        "y_pred = lr.predict(X_val)\n",
        "\n",
        "root_mean_squared_error(y_val, y_pred)"
      ]
    },
    {
      "cell_type": "markdown",
      "id": "1a95704b",
      "metadata": {},
      "source": [
        "## Saving the model"
      ]
    },
    {
      "cell_type": "code",
      "execution_count": null,
      "id": "3M9h7DZwMuyj",
      "metadata": {
        "id": "3M9h7DZwMuyj"
      },
      "outputs": [],
      "source": [
        "with open('models/lin_reg.bin', 'wb') as f_out:\n",
        "    pickle.dump((dv, lr), f_out)"
      ]
    }
  ],
  "metadata": {
    "colab": {
      "provenance": []
    },
    "kernelspec": {
      "display_name": "projector",
      "language": "python",
      "name": "python3"
    },
    "language_info": {
      "codemirror_mode": {
        "name": "ipython",
        "version": 3
      },
      "file_extension": ".py",
      "mimetype": "text/x-python",
      "name": "python",
      "nbconvert_exporter": "python",
      "pygments_lexer": "ipython3",
      "version": "3.10.10"
    }
  },
  "nbformat": 4,
  "nbformat_minor": 5
}
